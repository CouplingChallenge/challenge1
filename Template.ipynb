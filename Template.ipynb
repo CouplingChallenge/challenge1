{
 "cells": [
  {
   "cell_type": "code",
   "execution_count": 1,
   "id": "82627d3a",
   "metadata": {},
   "outputs": [],
   "source": [
    "import numpy as np\n",
    "import scipy as sc\n",
    "import matplotlib.pyplot as plt"
   ]
  },
  {
   "cell_type": "markdown",
   "id": "c72c95f3",
   "metadata": {},
   "source": [
    "# Simulation details"
   ]
  },
  {
   "cell_type": "code",
   "execution_count": 2,
   "id": "ed3a6f28",
   "metadata": {},
   "outputs": [],
   "source": [
    "L= 3 # Length of the bar\n",
    "n= 10 # Number of nodes + 1 in the domain\n",
    "h=L/n # Nodal spacing\n",
    "a = 4*h # Location of the first interface\n",
    "b = 8*h # Location of the second interface\n",
    "m=2 # m value of the horizon\n",
    "delta=2*m # Horizon\n",
    "BCType = \"N\" # Type of the boudnary condition at x=L\n",
    "g=3/27*3*3 # Value g for the Neumann condition"
   ]
  },
  {
   "cell_type": "markdown",
   "id": "0d54c74c",
   "metadata": {},
   "source": [
    "# Mesh\n",
    "Here, we plot the corresponding mesh and the two vertical lines indicate the interfaces $a$ and $b$. You have to use this mesh for your coupling approach. However, you can introdcue additional nodes, like ghost nodes, needed for your coupling approach."
   ]
  },
  {
   "cell_type": "code",
   "execution_count": 3,
   "id": "87e0d3db",
   "metadata": {},
   "outputs": [],
   "source": [
    "x = np.arange(0,3+h,h)"
   ]
  },
  {
   "cell_type": "code",
   "execution_count": 4,
   "id": "8c072dd0",
   "metadata": {},
   "outputs": [
    {
     "data": {
      "image/png": "[encoded data removed]",
      "text/plain": [
       "<Figure size 432x288 with 1 Axes>"
      ]
     },
     "metadata": {
      "needs_background": "light"
     },
     "output_type": "display_data"
    }
   ],
   "source": [
    "plt.scatter(x,np.zeros(len(x)))\n",
    "plt.vlines(x = a, ymin = -0.05, ymax = 0.05,colors = 'purple')\n",
    "plt.vlines(x = b, ymin = -0.05, ymax = 0.05,colors = 'purple')\n",
    "plt.grid()"
   ]
  },
  {
   "cell_type": "markdown",
   "id": "044cd02a",
   "metadata": {},
   "source": [
    "# Force"
   ]
  },
  {
   "cell_type": "code",
   "execution_count": null,
   "id": "b28d65f8",
   "metadata": {},
   "outputs": [],
   "source": [
    "def forceAtNodeN(x):     \n",
    "    return -6/27*x"
   ]
  },
  {
   "cell_type": "code",
   "execution_count": null,
   "id": "00fbeda4",
   "metadata": {},
   "outputs": [],
   "source": [
    "def forceAtNodeD(x):\n",
    "    return 8/9"
   ]
  },
  {
   "cell_type": "markdown",
   "id": "28af7d5c",
   "metadata": {},
   "source": [
    "# Force vector\n",
    "This is the first function, you need to change. Please implement the force vector based on your coupling approach. Depending on the BCType at $x-l$ fill the force vector with the funciton `forceAtNodeN` which gives you the force at node $x$ for Neumann boundary conditions or `forceAtNodeD` which gives you the force at node $x$ for Dirchlet boundary conditions. The value $g$ for the Neumann condition is definied globally."
   ]
  },
  {
   "cell_type": "code",
   "execution_count": null,
   "id": "b1bcd710",
   "metadata": {},
   "outputs": [],
   "source": [
    "def rhs():\n",
    "    \n",
    "    return 0"
   ]
  },
  {
   "cell_type": "markdown",
   "id": "367430e7",
   "metadata": {},
   "source": [
    "# Assemble Matrix\n",
    "This is the second function you have to change. Please implement in this function your coupling approach. You can add any parameter to the function. If needed you can implement addiotnal functions which are called within this function. "
   ]
  },
  {
   "cell_type": "code",
   "execution_count": null,
   "id": "289009d0",
   "metadata": {},
   "outputs": [],
   "source": [
    "def matrix():\n",
    "    \n",
    "    return 0"
   ]
  },
  {
   "cell_type": "markdown",
   "id": "a1bfbd39",
   "metadata": {},
   "source": [
    "# Solve \n",
    "Here, we solve the system $M \\cdot u = f$, where $M$ is the tangent stiffness matrix, $u$ is the displacement, and $f$ is the force vector. Please call the function for to assemble the matrix and the force vector here."
   ]
  },
  {
   "cell_type": "code",
   "execution_count": null,
   "id": "cea9703a",
   "metadata": {},
   "outputs": [],
   "source": [
    "f = rhs() # The right-hand side or force vector\n",
    "M = matrix() # Tangent stiffness matrix \n",
    "u = np.linalg.solve(M, f)"
   ]
  },
  {
   "cell_type": "markdown",
   "id": "f864461f",
   "metadata": {},
   "source": [
    "# Plot result\n",
    "\n",
    "Here, we plot the displacement of the solved coupled system using the original mesh. Please remove all addittional values introdcued by your coupling approach and only plot the displacement on the initial nodes."
   ]
  },
  {
   "cell_type": "code",
   "execution_count": null,
   "id": "9e133e2a",
   "metadata": {},
   "outputs": [],
   "source": [
    "plt.plot(x,u)\n",
    "plt.xlabel(\"Position\")\n",
    "plt.ylabel(\"Displacement\")\n",
    "plt.grid()\n"
   ]
  }
 ],
 "metadata": {
  "kernelspec": {
   "display_name": "Python 3",
   "language": "python",
   "name": "python3"
  },
  "language_info": {
   "codemirror_mode": {
    "name": "ipython",
    "version": 3
   },
   "file_extension": ".py",
   "mimetype": "text/x-python",
   "name": "python",
   "nbconvert_exporter": "python",
   "pygments_lexer": "ipython3",
   "version": "3.9.14"
  }
 },
 "nbformat": 4,
 "nbformat_minor": 5
}
